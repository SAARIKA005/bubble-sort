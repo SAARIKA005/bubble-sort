{
  "nbformat": 4,
  "nbformat_minor": 0,
  "metadata": {
    "colab": {
      "name": "Untitled38.ipynb",
      "provenance": []
    },
    "kernelspec": {
      "name": "python3",
      "display_name": "Python 3"
    },
    "language_info": {
      "name": "python"
    }
  },
  "cells": [
    {
      "cell_type": "code",
      "source": [
        "def bubble_sort(list1):  \n",
        "    # Outer loop for traverse the entire list  \n",
        "    for i in range(0,len(list1)-1):  \n",
        "        for j in range(len(list1)-1):  \n",
        "            if(list1[j]>list1[j+1]):  \n",
        "                temp = list1[j]  \n",
        "                list1[j] = list1[j+1]  \n",
        "                list1[j+1] = temp  \n",
        "    return list1  \n",
        "  \n",
        "list1 = [5, 3, 8, 6, 7, 2]  \n",
        "print(\"The unsorted list is: \", list1)  \n",
        "# Calling the bubble sort function  \n",
        "print(\"The sorted list is: \", bubble_sort(list1))  "
      ],
      "metadata": {
        "id": "_3P9LZXX-DdY"
      },
      "execution_count": null,
      "outputs": []
    }
  ]
}